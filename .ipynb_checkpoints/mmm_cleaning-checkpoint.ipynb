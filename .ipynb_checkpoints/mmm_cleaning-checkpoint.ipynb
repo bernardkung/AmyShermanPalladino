{
 "cells": [
  {
   "cell_type": "markdown",
   "id": "3798edaa",
   "metadata": {},
   "source": [
    "Transcripts are formatted drastically differently from screenplay:\n",
    "\n",
    "- Lines are attributed only as a new character is introduced, and subsequent lines do not explicity identify the speaking character.\n",
    "- Dialog lines are split into multiple lines.\n",
    "- Dialog lines randomly end in middle of lines.\n",
    "- Action/Direction is mixed into dialog, need to regex away anything between []\n",
    "- There's music, need to regex away anything between ♪♪"
   ]
  },
  {
   "cell_type": "code",
   "execution_count": 1,
   "id": "ab765690",
   "metadata": {},
   "outputs": [],
   "source": [
    "import json\n",
    "import re"
   ]
  },
  {
   "cell_type": "code",
   "execution_count": 2,
   "id": "9f0d0111",
   "metadata": {},
   "outputs": [],
   "source": [
    "def open_json(file_path):\n",
    "    with open(file_path, 'r') as f:\n",
    "        return json.load(f)"
   ]
  },
  {
   "cell_type": "code",
   "execution_count": 3,
   "id": "94d1e39d",
   "metadata": {},
   "outputs": [],
   "source": [
    "mmm_scripts = open_json('./data/maisel_scripts.json')"
   ]
  },
  {
   "cell_type": "code",
   "execution_count": 4,
   "id": "8527e761",
   "metadata": {},
   "outputs": [],
   "source": [
    "def split_title(title):\n",
    "    [season, episode] = map(lambda n: int(n), title.split(' - ')[0].split('x'))\n",
    "    return season, episode"
   ]
  },
  {
   "cell_type": "code",
   "execution_count": 5,
   "id": "d654cd5f",
   "metadata": {
    "scrolled": true
   },
   "outputs": [
    {
     "name": "stdout",
     "output_type": "stream",
     "text": [
      "0 1 1\n",
      "1 1 2\n",
      "2 1 3\n",
      "3 1 4\n",
      "4 1 5\n",
      "5 1 6\n",
      "6 1 7\n",
      "7 1 8\n",
      "8 2 1\n",
      "9 2 2\n",
      "10 2 3\n",
      "11 2 4\n",
      "12 2 5\n",
      "13 2 6\n",
      "14 2 7\n",
      "15 2 8\n",
      "16 2 9\n",
      "17 2 10\n",
      "18 3 1\n",
      "19 3 2\n",
      "20 3 3\n",
      "21 3 4\n",
      "22 3 5\n",
      "23 3 6\n",
      "24 3 7\n",
      "25 3 8\n",
      "26 4 1\n",
      "27 4 2\n",
      "28 4 3\n",
      "29 4 4\n",
      "30 4 5\n",
      "31 4 6\n",
      "32 4 7\n",
      "33 4 8\n"
     ]
    }
   ],
   "source": [
    "for s, script in enumerate(mmm_scripts):\n",
    "    title = script['title']\n",
    "    [x, y] = map(lambda n: int(n), title.split(' - ')[0].split('x'))\n",
    "    print(s, x, y, flush=True)"
   ]
  },
  {
   "cell_type": "code",
   "execution_count": 6,
   "id": "d2283f6e",
   "metadata": {},
   "outputs": [],
   "source": [
    "def munge_script(script, count = False):\n",
    "    curr_line = \"\"\n",
    "    clean_script = []\n",
    "    n = 0\n",
    "    for line in script:\n",
    "        strip_line = line.strip()\n",
    "        clean_lines = strip_line.split('\\n')\n",
    "        for clean_line in clean_lines:\n",
    "            # Remove music\n",
    "            re_music = re.compile(r'♪.*♪')\n",
    "            clean_line = re.sub(re_music, '', clean_line)\n",
    "\n",
    "            # Remove action direction\n",
    "            re_action = re.compile(r'\\[.*?\\]')\n",
    "            clean_line = re.sub(re_action, '', clean_line)\n",
    "\n",
    "            # Iteratively Remove dashes from speaker changes\n",
    "            re_dash = re.compile(r'^ *- *')\n",
    "            while re.match(re_dash, clean_line):\n",
    "                clean_line = re.sub(re_dash, '', clean_line)\n",
    "\n",
    "            # Remove speaker names\n",
    "            re_name = re.compile(r'^\\w+: *')\n",
    "            clean_line = re.sub(re_name, '', clean_line)\n",
    "\n",
    "            # Build out final dialog line\n",
    "            curr_line = curr_line + clean_line\n",
    "            n = n + len(curr_line.split(' '))\n",
    "            if len(clean_line) > 0 and clean_line[-1] in ['.', '!', '?']:\n",
    "                clean_script.append(curr_line)\n",
    "                curr_line = \"\"\n",
    "    if count:\n",
    "        res = n\n",
    "    else:\n",
    "        res = clean_script\n",
    "    return res"
   ]
  },
  {
   "cell_type": "code",
   "execution_count": 9,
   "id": "1cb7cdec",
   "metadata": {},
   "outputs": [],
   "source": [
    "clean_scripts = []\n",
    "for script in mmm_scripts:\n",
    "    [season, episode] = split_title(script['title'])\n",
    "    clean = munge_script(script['script'], True)\n",
    "    clean_scripts.append({\n",
    "        'season': season,\n",
    "        'episode': episode,\n",
    "        'count': clean\n",
    "    })"
   ]
  },
  {
   "cell_type": "code",
   "execution_count": 10,
   "id": "cace48ab",
   "metadata": {
    "scrolled": true
   },
   "outputs": [
    {
     "data": {
      "text/plain": [
       "[{'season': 1, 'episode': 1, 'count': 9465},\n",
       " {'season': 1, 'episode': 2, 'count': 9532},\n",
       " {'season': 1, 'episode': 3, 'count': 7816},\n",
       " {'season': 1, 'episode': 4, 'count': 8723},\n",
       " {'season': 1, 'episode': 5, 'count': 13626},\n",
       " {'season': 1, 'episode': 6, 'count': 8069},\n",
       " {'season': 1, 'episode': 7, 'count': 7881},\n",
       " {'season': 1, 'episode': 8, 'count': 8793},\n",
       " {'season': 2, 'episode': 1, 'count': 8349},\n",
       " {'season': 2, 'episode': 2, 'count': 8813},\n",
       " {'season': 2, 'episode': 3, 'count': 7925},\n",
       " {'season': 2, 'episode': 4, 'count': 7591},\n",
       " {'season': 2, 'episode': 5, 'count': 8965},\n",
       " {'season': 2, 'episode': 6, 'count': 6450},\n",
       " {'season': 2, 'episode': 7, 'count': 8633},\n",
       " {'season': 2, 'episode': 8, 'count': 6868},\n",
       " {'season': 2, 'episode': 9, 'count': 7899},\n",
       " {'season': 2, 'episode': 10, 'count': 8618},\n",
       " {'season': 3, 'episode': 1, 'count': 8961},\n",
       " {'season': 3, 'episode': 2, 'count': 8307},\n",
       " {'season': 3, 'episode': 3, 'count': 8381},\n",
       " {'season': 3, 'episode': 4, 'count': 8010},\n",
       " {'season': 3, 'episode': 5, 'count': 8156},\n",
       " {'season': 3, 'episode': 6, 'count': 9732},\n",
       " {'season': 3, 'episode': 7, 'count': 8799},\n",
       " {'season': 3, 'episode': 8, 'count': 12534},\n",
       " {'season': 4, 'episode': 1, 'count': 14703},\n",
       " {'season': 4, 'episode': 2, 'count': 13668},\n",
       " {'season': 4, 'episode': 3, 'count': 13049},\n",
       " {'season': 4, 'episode': 4, 'count': 19172},\n",
       " {'season': 4, 'episode': 5, 'count': 14880},\n",
       " {'season': 4, 'episode': 6, 'count': 15377},\n",
       " {'season': 4, 'episode': 7, 'count': 13813},\n",
       " {'season': 4, 'episode': 8, 'count': 15330}]"
      ]
     },
     "execution_count": 10,
     "metadata": {},
     "output_type": "execute_result"
    }
   ],
   "source": [
    "clean_scripts"
   ]
  },
  {
   "cell_type": "code",
   "execution_count": 12,
   "id": "bc65594e",
   "metadata": {},
   "outputs": [],
   "source": [
    "# Combine with runtimes\n",
    "mmm_runtimes = open_json('./data/maisel_runtimes.json')"
   ]
  },
  {
   "cell_type": "code",
   "execution_count": 14,
   "id": "258c8db9",
   "metadata": {},
   "outputs": [],
   "source": [
    "def searchFor(season, episode, data):\n",
    "    for d in data:\n",
    "        if d['episode'] == episode and d['season'] == season:\n",
    "            return d\n",
    "    return []"
   ]
  },
  {
   "cell_type": "code",
   "execution_count": 16,
   "id": "1f29d8ed",
   "metadata": {},
   "outputs": [],
   "source": [
    "for script in clean_scripts:\n",
    "    run = searchFor(script['season'], script['episode'], mmm_runtimes)\n",
    "    script['runtime'] = run['runtime']"
   ]
  },
  {
   "cell_type": "code",
   "execution_count": 18,
   "id": "9455ba7f",
   "metadata": {
    "scrolled": true
   },
   "outputs": [],
   "source": [
    "# Write output\n",
    "with open('./output/mmm_data.json', 'w+') as outfile:\n",
    "    json.dump(clean_scripts, outfile)"
   ]
  }
 ],
 "metadata": {
  "kernelspec": {
   "display_name": "Python 3 (ipykernel)",
   "language": "python",
   "name": "python3"
  },
  "language_info": {
   "codemirror_mode": {
    "name": "ipython",
    "version": 3
   },
   "file_extension": ".py",
   "mimetype": "text/x-python",
   "name": "python",
   "nbconvert_exporter": "python",
   "pygments_lexer": "ipython3",
   "version": "3.9.12"
  }
 },
 "nbformat": 4,
 "nbformat_minor": 5
}
