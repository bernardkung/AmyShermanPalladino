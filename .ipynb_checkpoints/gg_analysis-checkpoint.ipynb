{
 "cells": [
  {
   "cell_type": "code",
   "execution_count": 8,
   "metadata": {},
   "outputs": [],
   "source": [
    "import os\n",
    "import json\n",
    "import pandas as pd"
   ]
  },
  {
   "cell_type": "code",
   "execution_count": 5,
   "metadata": {},
   "outputs": [],
   "source": [
    "def read_json(file_name):\n",
    "    with open(file_name, 'r') as infile:\n",
    "        return json.load(infile)    "
   ]
  },
  {
   "cell_type": "code",
   "execution_count": 6,
   "metadata": {},
   "outputs": [],
   "source": [
    "## Read our episodes from json\n",
    "json_path = 'data\\\\'\n",
    "json_files = [json_file for json_file in os.listdir(json_path)]"
   ]
  },
  {
   "cell_type": "code",
   "execution_count": 13,
   "metadata": {},
   "outputs": [],
   "source": [
    "\n",
    "def read_json(file_name, file_path = \"\"):\n",
    "    with open(file_path + file_name, 'r') as infile:\n",
    "        return json.load(infile)\n",
    "    \n",
    "## Read our episodes from json\n",
    "json_path = 'data\\\\'\n",
    "json_files = [json_file for json_file in os.listdir(json_path)]\n",
    "\n",
    "eps = [];\n",
    "for file in json_files:\n",
    "    eps.append(read_json(file, json_path))"
   ]
  },
  {
   "cell_type": "code",
   "execution_count": 22,
   "metadata": {},
   "outputs": [],
   "source": [
    "# Strip white spaces\n",
    "\n",
    "for ep in eps:\n",
    "    ep['soup'] = [line.strip() for line in ep['soup']]"
   ]
  },
  {
   "cell_type": "code",
   "execution_count": 28,
   "metadata": {},
   "outputs": [],
   "source": [
    "df = pd.DataFrame(eps[0]['soup'], columns=['raw'])"
   ]
  },
  {
   "cell_type": "code",
   "execution_count": 42,
   "metadata": {},
   "outputs": [],
   "source": [
    "df['dialog'] = df['raw'].str.contains(\":\")"
   ]
  },
  {
   "cell_type": "code",
   "execution_count": 44,
   "metadata": {
    "scrolled": true
   },
   "outputs": [
    {
     "data": {
      "text/plain": [
       "0                                 [OPEN IN STARS HOLLOW]\n",
       "1      [[Lorelai walks down the sidewalk. She passes ...\n",
       "2      [LORELAI,  Please, Luke. Please, please, please.]\n",
       "3      [LUKE,  How many cups have you had this morning?]\n",
       "4                                      [LORELAI,  None.]\n",
       "5                                       [LUKE,  Plus...]\n",
       "6                 [LORELAI,  Five, but yours is better.]\n",
       "7                           [LUKE,  You have a problem.]\n",
       "8                                 [LORELAI,  Yes, I do.]\n",
       "9                                 [[Luke fills her cup]]\n",
       "10                                      [LUKE,  Junkie.]\n",
       "11            [LORELAI,  Angel. You've got wings, baby.]\n",
       "12     [[The phone rings as Lorelai goes back to her ...\n",
       "13                        [LUKE,  Luke's. [pause] Yeah.]\n",
       "14     [[A young guy seated at the counter turns and ...\n",
       "15              [JOEY,  You make that look really good.]\n",
       "16     [LORELAI,  Oh, it is really good. It's the bes...\n",
       "17             [JOEY,  Oh yeah? I'll have to get a cup.]\n",
       "18                                [LORELAI,  Good plan.]\n",
       "19     [JOEY,  Yeah, I've never been here before. Jus...\n",
       "20            [LORELAI,  You're a regular Jack Kerouac.]\n",
       "21                                        [JOEY,  Yeah.]\n",
       "22                                     [LORELAI,  Yeah.]\n",
       "23                 [JOEY,  Hey, you mind if I sit down?]\n",
       "24     [LORELAI,  Oh, you know what? Actually, I'm me...\n",
       "25                       [[Joey sits down at her table]]\n",
       "26                                    [JOEY,  I'm Joey.]\n",
       "27                                     [LORELAI,  Okay.]\n",
       "28                 [JOEY,  What, you don't have a name?]\n",
       "29     [LORELAI,  No, I do have a name. I just, I'm r...\n",
       "                             ...                        \n",
       "738           [LORELAI,  Oh, honey, you won't be sorry.]\n",
       "739    [[Luke walks up to the table dressed in a butt...\n",
       "740         [LORELAI,  Wow, you look nice. Really nice.]\n",
       "741    [LUKE,  I had a meeting earlier at the bank. T...\n",
       "742           [LORELAI,  I had a flagellation to go to.]\n",
       "743                       [LUKE,  So, what'll you have?]\n",
       "744                        [LORELAI,  Coffee, in a vat.]\n",
       "745     [RORY,  I'll have coffee also. And chili fries.]\n",
       "746    [LUKE,  That's quite a refined palate you got ...\n",
       "747                                  [[Luke walks away]]\n",
       "748    [LORELAI,  Behold the healing powers of a bath...\n",
       "749    [RORY,  You know what's really special about o...\n",
       "750                [LORELAI,  So tell me about the guy.]\n",
       "751                                        [RORY,  Mom!]\n",
       "752                            [LORELAI,  Is he dreamy?]\n",
       "753                [RORY,  Oh, that's so Nick at Night.]\n",
       "754         [LORELAI,  Well, I'm gonna find out anyway.]\n",
       "755                                [RORY,  Really? How?]\n",
       "756                                [LORELAI,  I'll spy.]\n",
       "757                    [[Luke returns with their order]]\n",
       "758    [LUKE,  Coffee. . .fries. I can't stand it. Th...\n",
       "759                            [RORY,  Sorry, too late.]\n",
       "760    [[Rory and Lorelai smile at each other. Luke w...\n",
       "761                [LORELAI,  So tell me about the guy.]\n",
       "762                              [RORY,  Check, please.]\n",
       "763    [LORELAI,  No, really, are you embarrassed to ...\n",
       "764                        [RORY,  I'm not embarrassed.]\n",
       "765                     [LORELAI,  Does he talk at all?]\n",
       "766                       [RORY,  No, Mom, he's a mime.]\n",
       "767                                            [THE END]\n",
       "Name: raw, Length: 768, dtype: object"
      ]
     },
     "execution_count": 44,
     "metadata": {},
     "output_type": "execute_result"
    }
   ],
   "source": [
    "df['raw'].str.split(\":\", n=1)"
   ]
  },
  {
   "cell_type": "markdown",
   "metadata": {},
   "source": [
    "Split dialog lines into character and dialog actual. Easiest done if it's copied into a separate df with **only** dialog lines included."
   ]
  },
  {
   "cell_type": "code",
   "execution_count": 58,
   "metadata": {},
   "outputs": [],
   "source": [
    "dialog = df[df['dialog']].copy()"
   ]
  },
  {
   "cell_type": "code",
   "execution_count": 68,
   "metadata": {},
   "outputs": [],
   "source": [
    "dialog[['character', 'dialog']] = dialog['raw'].str.split(\":\", n=1, expand=True)"
   ]
  },
  {
   "cell_type": "markdown",
   "metadata": {},
   "source": [
    "In line directions also need to be scrubbed."
   ]
  }
 ],
 "metadata": {
  "kernelspec": {
   "display_name": "Python 3 (ipykernel)",
   "language": "python",
   "name": "python3"
  },
  "language_info": {
   "codemirror_mode": {
    "name": "ipython",
    "version": 3
   },
   "file_extension": ".py",
   "mimetype": "text/x-python",
   "name": "python",
   "nbconvert_exporter": "python",
   "pygments_lexer": "ipython3",
   "version": "3.9.12"
  }
 },
 "nbformat": 4,
 "nbformat_minor": 2
}
